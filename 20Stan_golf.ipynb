{
 "cells": [
  {
   "cell_type": "markdown",
   "metadata": {
    "colab_type": "text",
    "id": "view-in-github"
   },
   "source": [
    "<a href=\"https://colab.research.google.com/github/choiiiiii/stan/blob/master/20Stan_golf.ipynb\" target=\"_parent\"><img src=\"https://colab.research.google.com/assets/colab-badge.svg\" alt=\"Open In Colab\"/></a>"
   ]
  },
  {
   "cell_type": "code",
   "execution_count": 11,
   "metadata": {
    "colab": {},
    "colab_type": "code",
    "id": "hBkiivD5LW7e"
   },
   "outputs": [],
   "source": [
    "import pandas as pd\n",
    "import numpy as np\n",
    "from scipy.stats import beta\n",
    "import matplotlib.pyplot as plt\n",
    "import os\n",
    "from cmdstanpy import CmdStanModel, cmdstan_path"
   ]
  },
  {
   "cell_type": "code",
   "execution_count": 12,
   "metadata": {
    "colab": {},
    "colab_type": "code",
    "id": "E9pxUnWPLW7q"
   },
   "outputs": [],
   "source": [
    "df = pd.read_csv('data/golf_data.txt')\n",
    "new_df = pd.read_csv('data/golf_newdata.txt')"
   ]
  },
  {
   "cell_type": "markdown",
   "metadata": {
    "colab_type": "text",
    "id": "pyoX-SDPOAZD"
   },
   "source": [
    "# Model building and expansion for golf putting\n",
    "\n",
    "\n",
    "Andrew Gelman\n",
    "\n",
    "\n",
    "24 Sep 2019\n",
    "\n",
    "\n",
    "The following graph shows data from professional golfers on the proportion of successful putts as a function of distance from the hole. Unsurprisingly, the probability of making the shot declines as a function of distance:"
   ]
  },
  {
   "cell_type": "markdown",
   "metadata": {
    "colab_type": "text",
    "id": "8rdHdzGKOIwv"
   },
   "source": [
    "![title](https://github.com/choiiiiii/stan/blob/master/data/img/golf_data.png?raw=1)\n"
   ]
  },
  {
   "cell_type": "markdown",
   "metadata": {
    "colab_type": "text",
    "id": "y-tyIeqQOPnl"
   },
   "source": [
    "The error bars associated with each point $j$\n",
    "in the above graph are simple classical standard deviations, $ \\sqrt{\\hat{p_j}(1- \\hat{p_j}/ n_j)} $, where $\\hat{p_j} = y_j/n_j$ is the success rate for putts taken at distance $x_j$"
   ]
  },
  {
   "cell_type": "markdown",
   "metadata": {
    "colab_type": "text",
    "id": "2xbCwbQ0O1qK"
   },
   "source": [
    "## Logistic regression\n",
    "Can we model the probability of success in golf putting as a function of distance from the hole? Given usual statistical practice, the natural starting point would be logistic regression:\n",
    "\n",
    "$$y_j \\sim binomial(n_j,logit^{-1}(a+bx_j)),\\ for\\ j=1,\\dots\\, J$$\n",
    "\n",
    "In Stan, this is:"
   ]
  },
  {
   "cell_type": "markdown",
   "metadata": {
    "colab_type": "text",
    "id": "Lwz7CV5TPO7t"
   },
   "source": [
    "```\n",
    "data {\n",
    "  int J;\n",
    "  int n[J];\n",
    "  vector[J] x;\n",
    "  int y[J];\n",
    "}\n",
    "parameters {\n",
    "  real a;\n",
    "  real b;\n",
    "}\n",
    "model {\n",
    "  y ~ binomial_logit(n, a + b*x);\n",
    "}\n",
    "```"
   ]
  },
  {
   "cell_type": "markdown",
   "metadata": {
    "colab_type": "text",
    "id": "PW8QOpIaPadk"
   },
   "source": [
    "The code in the above model block is (implicitly) vectorized, so that it is mathematically equivalent to modeling each data point, `y[i] ~ binomial_logit(n[i],a+b*x[i])`. The vectorized code is more compact (no need to write a loop, or to include the subscripts) and faster (because of more efficient gradient evaluations).\n",
    "\n",
    "\n",
    "We fit the model to the data:"
   ]
  },
  {
   "cell_type": "code",
   "execution_count": 3,
   "metadata": {
    "colab": {
     "base_uri": "https://localhost:8080/",
     "height": 263
    },
    "colab_type": "code",
    "id": "FGtC0N6HDRcv",
    "outputId": "bfb86359-98db-4154-d22d-fc187bc64c3e"
   },
   "outputs": [
    {
     "name": "stderr",
     "output_type": "stream",
     "text": [
      "INFO:cmdstanpy:compiling stan program, exe file: /Users/hyunjimoon/Dropbox/stan/casestudy/stanfile/golf_logistic\n",
      "INFO:cmdstanpy:compiler options: stanc_options=None, cpp_options=None\n",
      "INFO:cmdstanpy:compiled model file: /Users/hyunjimoon/Dropbox/stan/casestudy/stanfile/golf_logistic\n",
      "INFO:cmdstanpy:start chain 1\n",
      "INFO:cmdstanpy:start chain 2\n",
      "INFO:cmdstanpy:start chain 3\n",
      "INFO:cmdstanpy:finish chain 1\n",
      "INFO:cmdstanpy:start chain 4\n",
      "INFO:cmdstanpy:finish chain 2\n",
      "INFO:cmdstanpy:start chain 5\n",
      "INFO:cmdstanpy:finish chain 3\n",
      "INFO:cmdstanpy:finish chain 4\n",
      "INFO:cmdstanpy:finish chain 5\n"
     ]
    }
   ],
   "source": [
    "golf_logistic_path = os.path.join('./stanfile','golf_logistic.stan')\n",
    "golf_logistic_model = CmdStanModel(stan_file=golf_logistic_path)\n",
    "golf_logistic_data = {\n",
    "    \"J\": df.shape[0],\n",
    "    \"n\": list(df.loc[:,'n']),\n",
    "    \"x\": list(df.loc[:,'x']),\n",
    "    \"y\": list(df.loc[:,'y'])\n",
    "}\n",
    "golf_logistic_fit = golf_logistic_model.sample(chains=5, cores=3, data=golf_logistic_data)"
   ]
  },
  {
   "cell_type": "markdown",
   "metadata": {
    "colab_type": "text",
    "id": "ydfqinaTwiyG"
   },
   "source": [
    "And here is the result:"
   ]
  },
  {
   "cell_type": "code",
   "execution_count": 4,
   "metadata": {
    "colab": {
     "base_uri": "https://localhost:8080/",
     "height": 166
    },
    "colab_type": "code",
    "id": "2OVfanaxJu6j",
    "outputId": "737b30d2-783c-4a4a-ed91-2b0fe4138bb5"
   },
   "outputs": [
    {
     "data": {
      "text/html": [
       "<div>\n",
       "<style scoped>\n",
       "    .dataframe tbody tr th:only-of-type {\n",
       "        vertical-align: middle;\n",
       "    }\n",
       "\n",
       "    .dataframe tbody tr th {\n",
       "        vertical-align: top;\n",
       "    }\n",
       "\n",
       "    .dataframe thead th {\n",
       "        text-align: right;\n",
       "    }\n",
       "</style>\n",
       "<table border=\"1\" class=\"dataframe\">\n",
       "  <thead>\n",
       "    <tr style=\"text-align: right;\">\n",
       "      <th></th>\n",
       "      <th>Mean</th>\n",
       "      <th>MCSE</th>\n",
       "      <th>StdDev</th>\n",
       "      <th>5%</th>\n",
       "      <th>50%</th>\n",
       "      <th>95%</th>\n",
       "      <th>N_Eff</th>\n",
       "      <th>N_Eff/s</th>\n",
       "      <th>R_hat</th>\n",
       "    </tr>\n",
       "    <tr>\n",
       "      <th>name</th>\n",
       "      <th></th>\n",
       "      <th></th>\n",
       "      <th></th>\n",
       "      <th></th>\n",
       "      <th></th>\n",
       "      <th></th>\n",
       "      <th></th>\n",
       "      <th></th>\n",
       "      <th></th>\n",
       "    </tr>\n",
       "  </thead>\n",
       "  <tbody>\n",
       "    <tr>\n",
       "      <td>lp__</td>\n",
       "      <td>-3021.15000</td>\n",
       "      <td>0.025314</td>\n",
       "      <td>0.976643</td>\n",
       "      <td>-3023.060000</td>\n",
       "      <td>-3020.830000</td>\n",
       "      <td>-3020.210000</td>\n",
       "      <td>1488.49</td>\n",
       "      <td>7006.78</td>\n",
       "      <td>1.00362</td>\n",
       "    </tr>\n",
       "    <tr>\n",
       "      <td>a</td>\n",
       "      <td>2.23158</td>\n",
       "      <td>0.001646</td>\n",
       "      <td>0.058184</td>\n",
       "      <td>2.133080</td>\n",
       "      <td>2.232660</td>\n",
       "      <td>2.324820</td>\n",
       "      <td>1249.58</td>\n",
       "      <td>5882.18</td>\n",
       "      <td>1.00527</td>\n",
       "    </tr>\n",
       "    <tr>\n",
       "      <td>b</td>\n",
       "      <td>-0.25580</td>\n",
       "      <td>0.000181</td>\n",
       "      <td>0.006614</td>\n",
       "      <td>-0.266226</td>\n",
       "      <td>-0.255982</td>\n",
       "      <td>-0.244599</td>\n",
       "      <td>1329.12</td>\n",
       "      <td>6256.61</td>\n",
       "      <td>1.00434</td>\n",
       "    </tr>\n",
       "  </tbody>\n",
       "</table>\n",
       "</div>"
      ],
      "text/plain": [
       "            Mean      MCSE    StdDev           5%          50%          95%  \\\n",
       "name                                                                          \n",
       "lp__ -3021.15000  0.025314  0.976643 -3023.060000 -3020.830000 -3020.210000   \n",
       "a        2.23158  0.001646  0.058184     2.133080     2.232660     2.324820   \n",
       "b       -0.25580  0.000181  0.006614    -0.266226    -0.255982    -0.244599   \n",
       "\n",
       "        N_Eff  N_Eff/s    R_hat  \n",
       "name                             \n",
       "lp__  1488.49  7006.78  1.00362  \n",
       "a     1249.58  5882.18  1.00527  \n",
       "b     1329.12  6256.61  1.00434  "
      ]
     },
     "execution_count": 4,
     "metadata": {},
     "output_type": "execute_result"
    }
   ],
   "source": [
    "golf_logistic_fit.summary()"
   ]
  },
  {
   "cell_type": "markdown",
   "metadata": {
    "colab_type": "text",
    "id": "CqvsPw6DwlXM"
   },
   "source": [
    "Going through the columns of the above table: Stan has computed the posterior means ± standard deviations of $a$ and $b$ to be 2.23 ± 0.06 and -0.26 ± 0.01, respectively. The Monte Carlo standard error of the mean of each of these parameters is 0 (to two decimal places), indicating that the simulations have run long enough to estimate the posterior means precisely. The posterior quantiles give a sense of the uncertainty in the parameters, with 50% posterior intervals of $[2.19, 2.27]$ and $[-0.26, -0.25]$ for $a$ and $b$, respectively. Finally, the values of $\\hat{R}$ near 1 tell us that the simulations from Stan’s four simulated chains have mixed well. (We have more sophisticated convergence diagnostics, and also we recommend checking the fit using simulated data, as discussed in the Bayesian Workflow Using Stan book, but checking that $\\hat{R}$\n",
    "is near 1 is a good start.)\n",
    "The following graph shows the fit plotted along with the data:"
   ]
  },
  {
   "cell_type": "markdown",
   "metadata": {
    "colab_type": "text",
    "id": "iD0M2wvExM7h"
   },
   "source": [
    "![title](https://github.com/choiiiiii/stan/blob/master/data/img/logistic_regression.png?raw=1)"
   ]
  },
  {
   "cell_type": "markdown",
   "metadata": {
    "colab_type": "text",
    "id": "_DQh2f3axWYl"
   },
   "source": [
    "The black line shows the fit corresponding to the posterior median estimates of the parameters $a$ and $b$; the green lines show 10 draws from the posterior distribution.\n",
    "\n",
    "\n",
    "In this example, posterior uncertainties in the fits are small, and for simplicity we will just plot point estimates based on posterior median parameter estimates for the remaining models. Our focus here is on the sequence of models that we fit, not so much on uncertainty in particular model fits."
   ]
  },
  {
   "cell_type": "markdown",
   "metadata": {
    "colab_type": "text",
    "id": "bim-wUJsxgIB"
   },
   "source": [
    "## Modeling from first principles\n",
    "\n",
    "As an alternative to logistic regression, we shall build a model from first principles and fit it to the data.\n",
    "\n",
    "The graph below shows a simplified sketch of a golf shot. The dotted line represents the angle within which the ball of radius $r$ must be hit so that it falls within the hole of radius $R$. This threshold angle is $sin^{-1}((R-r)/x)$. The graph, which is not to scale, is intended to illustrate the geometry of the ball needing to go into the hole."
   ]
  },
  {
   "cell_type": "markdown",
   "metadata": {
    "colab_type": "text",
    "id": "ud6jTjbQxwOi"
   },
   "source": [
    "![title](https://github.com/choiiiiii/stan/blob/master/data/img/golf_geometry.png?raw=1)"
   ]
  },
  {
   "cell_type": "markdown",
   "metadata": {
    "colab_type": "text",
    "id": "0AfGSlIhxxwM"
   },
   "source": [
    "The next step is to model human error. We assume that the golfer is attempting to hit the ball completely straight but that many small factors interfere with this goal, so that the actual angle follows a normal distribution centered at 0 with some standard deviation $\\sigma$."
   ]
  },
  {
   "cell_type": "markdown",
   "metadata": {
    "colab_type": "text",
    "id": "cjmuDGYnx2sZ"
   },
   "source": [
    "![title](https://github.com/choiiiiii/stan/blob/master/data/img/angle_of_shot.png?raw=1)"
   ]
  },
  {
   "cell_type": "markdown",
   "metadata": {
    "colab_type": "text",
    "id": "wTs66RRDx4pL"
   },
   "source": [
    "The probability the ball goes in the hole is then the probability that the angle is less than the threshold; that is, \n",
    "$Pr(|angle| < sin^{-1}((R-r)/x) = 2\\Phi(\\frac{sin^{-1}(R-r)/x)}{\\sigma})-1$,where $\\Phi$ is the cumulative normal distribution function. The only unknown parameter in this model is $\\sigma$, the standard deviation of the distribution of shot angles. Stan (and, for that matter, R) computes trigonometry using angles in radians, so at the end of our calculations we will need to multiply by $180/\\pi$\n",
    "to convert to degrees, which are more interpretable by humans.\n",
    "\n",
    "\n",
    "Our model then has two parts: \n",
    "\n",
    "$$y_j \\sim binomial(n_j,p_j)$$\n",
    "$$p_j = 2\\Phi(\\frac{sin^{-1}(R-r)/x)}{\\sigma}) - 1,\\ for\\ j=1,\\dots,J$$\n",
    "\n",
    "Here is a graph showing the curve for some potential values of the parameter $\\sigma$.\n"
   ]
  },
  {
   "cell_type": "markdown",
   "metadata": {
    "colab_type": "text",
    "id": "vXyO6iXdzOjD"
   },
   "source": [
    "![title](https://github.com/choiiiiii/stan/blob/master/data/img/model_comparison_sigma.png?raw=1)"
   ]
  },
  {
   "cell_type": "markdown",
   "metadata": {
    "colab_type": "text",
    "id": "TG4v1GzszQeA"
   },
   "source": [
    "The highest curve on the graph corresponds to $\\sigma = 0.5^{\\circ}$: if golfers could control the angles of their putts to an accuracy of approximately half a degree, they would have a very high probability of success, making over 80% of their ten-foot putts, over 50% of their fifteen-foot putts, and so on. At the other extreme, the lowest plotted curve corresponds to $\\sigma = 20^{\\circ}$: if your putts could be off as high as 20 degrees, then you would be highly inaccurate, missing more than half of your two-foot putts. When fitting the model in Stan, the program moves around the space of $\\sigma$, sampling from the posterior distribution."
   ]
  },
  {
   "cell_type": "markdown",
   "metadata": {
    "colab_type": "text",
    "id": "Tp_5BdsazqSV"
   },
   "source": [
    "We now write the Stan model in preparation to estimating $\\sigma$ :\n",
    "\n"
   ]
  },
  {
   "cell_type": "markdown",
   "metadata": {
    "colab_type": "text",
    "id": "XFqGP6CZz3kn"
   },
   "source": [
    "```\n",
    "data {\n",
    "  int J;\n",
    "  int n[J];\n",
    "  vector[J] x;\n",
    "  int y[J];\n",
    "  real r;\n",
    "  real R;\n",
    "}\n",
    "transformed data {\n",
    "  vector[J] threshold_angle = asin((R-r) ./ x);\n",
    "}\n",
    "parameters {\n",
    "  real<lower=0> sigma;\n",
    "}\n",
    "model {\n",
    "  vector[J] p = 2*Phi(threshold_angle / sigma) - 1;\n",
    "  y ~ binomial(n, p);\n",
    "}\n",
    "generated quantities {\n",
    "  real sigma_degrees = sigma * 180 / pi();\n",
    "}\n",
    "```\n",
    "\n",
    "\n"
   ]
  },
  {
   "cell_type": "markdown",
   "metadata": {
    "colab_type": "text",
    "id": "slTQeKxAz5sT"
   },
   "source": [
    "In the transformed data block above, the `./` in the calculation of p corresponds to componentwise division in this vectorized computation.\n",
    "\n",
    "\n",
    "\n",
    "The data $J,n,x,y$ have already been set up; we just need to define $r$ and $R$ (the golf ball and hole have diameters 1.68 and 4.25 inches, respectively), and run the Stan model:"
   ]
  },
  {
   "cell_type": "code",
   "execution_count": 5,
   "metadata": {
    "colab": {
     "base_uri": "https://localhost:8080/",
     "height": 263
    },
    "colab_type": "code",
    "id": "Ks4cWxq20Fcm",
    "outputId": "93eb83b4-2b56-43b2-c953-3b2bf3fa5a22"
   },
   "outputs": [
    {
     "name": "stderr",
     "output_type": "stream",
     "text": [
      "INFO:cmdstanpy:compiling stan program, exe file: /Users/hyunjimoon/Dropbox/stan/casestudy/stanfile/golf_angle\n",
      "INFO:cmdstanpy:compiler options: stanc_options=None, cpp_options=None\n",
      "INFO:cmdstanpy:compiled model file: /Users/hyunjimoon/Dropbox/stan/casestudy/stanfile/golf_angle\n",
      "INFO:cmdstanpy:start chain 1\n",
      "INFO:cmdstanpy:start chain 2\n",
      "INFO:cmdstanpy:start chain 3\n",
      "INFO:cmdstanpy:finish chain 1\n",
      "INFO:cmdstanpy:start chain 4\n",
      "INFO:cmdstanpy:finish chain 2\n",
      "INFO:cmdstanpy:finish chain 3\n",
      "INFO:cmdstanpy:start chain 5\n",
      "INFO:cmdstanpy:finish chain 4\n",
      "INFO:cmdstanpy:finish chain 5\n"
     ]
    }
   ],
   "source": [
    "golf_angle_path = os.path.join('./stanfile','golf_angle.stan')\n",
    "golf_angle_model = CmdStanModel(stan_file=golf_angle_path)\n",
    "golf_angle_data = {\n",
    "    \"J\": df.shape[0],\n",
    "    \"n\": list(df.loc[:,'n']),\n",
    "    \"x\": list(df.loc[:,'x']),\n",
    "    \"y\": list(df.loc[:,'y']),\n",
    "    \"r\": (1.68/2)/12,\n",
    "    \"R\": (4.25/2)/12,\n",
    "}\n",
    "golf_angle_fit = golf_angle_model.sample(chains=5, cores=3, data=golf_angle_data)"
   ]
  },
  {
   "cell_type": "markdown",
   "metadata": {
    "colab_type": "text",
    "id": "TEy2JGtv0Ljw"
   },
   "source": [
    "Here is the result:"
   ]
  },
  {
   "cell_type": "code",
   "execution_count": 6,
   "metadata": {
    "colab": {
     "base_uri": "https://localhost:8080/",
     "height": 166
    },
    "colab_type": "code",
    "id": "boayn66uLJWZ",
    "outputId": "5224b29b-93af-4539-9249-cc46071e6c3e"
   },
   "outputs": [
    {
     "data": {
      "text/html": [
       "<div>\n",
       "<style scoped>\n",
       "    .dataframe tbody tr th:only-of-type {\n",
       "        vertical-align: middle;\n",
       "    }\n",
       "\n",
       "    .dataframe tbody tr th {\n",
       "        vertical-align: top;\n",
       "    }\n",
       "\n",
       "    .dataframe thead th {\n",
       "        text-align: right;\n",
       "    }\n",
       "</style>\n",
       "<table border=\"1\" class=\"dataframe\">\n",
       "  <thead>\n",
       "    <tr style=\"text-align: right;\">\n",
       "      <th></th>\n",
       "      <th>Mean</th>\n",
       "      <th>MCSE</th>\n",
       "      <th>StdDev</th>\n",
       "      <th>5%</th>\n",
       "      <th>50%</th>\n",
       "      <th>95%</th>\n",
       "      <th>N_Eff</th>\n",
       "      <th>N_Eff/s</th>\n",
       "      <th>R_hat</th>\n",
       "    </tr>\n",
       "    <tr>\n",
       "      <th>name</th>\n",
       "      <th></th>\n",
       "      <th></th>\n",
       "      <th></th>\n",
       "      <th></th>\n",
       "      <th></th>\n",
       "      <th></th>\n",
       "      <th></th>\n",
       "      <th></th>\n",
       "      <th></th>\n",
       "    </tr>\n",
       "  </thead>\n",
       "  <tbody>\n",
       "    <tr>\n",
       "      <td>lp__</td>\n",
       "      <td>-2926.800000</td>\n",
       "      <td>0.015990</td>\n",
       "      <td>0.744027</td>\n",
       "      <td>-2928.340000</td>\n",
       "      <td>-2926.51000</td>\n",
       "      <td>-2926.270000</td>\n",
       "      <td>2165.01</td>\n",
       "      <td>10092.60</td>\n",
       "      <td>1.00194</td>\n",
       "    </tr>\n",
       "    <tr>\n",
       "      <td>sigma</td>\n",
       "      <td>0.026662</td>\n",
       "      <td>0.000009</td>\n",
       "      <td>0.000411</td>\n",
       "      <td>0.025998</td>\n",
       "      <td>0.02666</td>\n",
       "      <td>0.027338</td>\n",
       "      <td>1928.90</td>\n",
       "      <td>8991.92</td>\n",
       "      <td>1.00066</td>\n",
       "    </tr>\n",
       "    <tr>\n",
       "      <td>sigma_degrees</td>\n",
       "      <td>1.527620</td>\n",
       "      <td>0.000536</td>\n",
       "      <td>0.023526</td>\n",
       "      <td>1.489570</td>\n",
       "      <td>1.52750</td>\n",
       "      <td>1.566360</td>\n",
       "      <td>1928.90</td>\n",
       "      <td>8991.89</td>\n",
       "      <td>1.00066</td>\n",
       "    </tr>\n",
       "  </tbody>\n",
       "</table>\n",
       "</div>"
      ],
      "text/plain": [
       "                      Mean      MCSE    StdDev           5%         50%  \\\n",
       "name                                                                      \n",
       "lp__          -2926.800000  0.015990  0.744027 -2928.340000 -2926.51000   \n",
       "sigma             0.026662  0.000009  0.000411     0.025998     0.02666   \n",
       "sigma_degrees     1.527620  0.000536  0.023526     1.489570     1.52750   \n",
       "\n",
       "                       95%    N_Eff   N_Eff/s    R_hat  \n",
       "name                                                    \n",
       "lp__          -2926.270000  2165.01  10092.60  1.00194  \n",
       "sigma             0.027338  1928.90   8991.92  1.00066  \n",
       "sigma_degrees     1.566360  1928.90   8991.89  1.00066  "
      ]
     },
     "execution_count": 6,
     "metadata": {},
     "output_type": "execute_result"
    }
   ],
   "source": [
    "golf_angle_fit.summary()"
   ]
  },
  {
   "cell_type": "markdown",
   "metadata": {
    "colab_type": "text",
    "id": "An1XKqlt0Nsf"
   },
   "source": [
    "The model has a single parameter, $\\sigma$. From the output, we find that Stan has computed the posterior mean of $\\sigma$ to be 0.03. Multiplying this by $180/\\pi$\n",
    ", this comes to 1.53 degrees. The Monte Carlo standard error of the mean is 0 (to two decimal places), indicating that the simulations have run long enough to estimate the posterior mean precisely. The posterior standard deviation is calculated at 0.02 degrees, indicating that $\\sigma$ itself has been estimated with high precision, which makes sense given the large number of data points and the simplicity of the model. The precise posterior distribution of $\\sigma$ can also be seen from the narrow range of the posterior quantiles. Finally, $\\hat{R}$ is near 1, telling us that the simulations from Stan’s four simulated chains have mixed well."
   ]
  },
  {
   "cell_type": "markdown",
   "metadata": {
    "colab_type": "text",
    "id": "Y1y-9cOm0pHm"
   },
   "source": [
    "We next plot the data and the fitted model (here using the posterior median of $\\sigma$\n",
    "but in this case the uncertainty is so narrow that any reasonable posterior summary would give essentially the same result), along with the logistic regression fitted earlier:"
   ]
  },
  {
   "cell_type": "markdown",
   "metadata": {
    "colab_type": "text",
    "id": "P_Q1Nn8L0tNI"
   },
   "source": [
    "![title](https://github.com/choiiiiii/stan/blob/master/data/img/model_comparison.png?raw=1)"
   ]
  },
  {
   "cell_type": "markdown",
   "metadata": {
    "colab_type": "text",
    "id": "GtVg_FLd0vUx"
   },
   "source": [
    "The custom nonlinear model fits the data much better. This is not to say that the model is perfect—any experience of golf will reveal that the angle is not the only factor determining whether the ball goes in the hole—but it seems like a useful start, and it is good to know that we can fit nonlinear models by just coding them up in Stan.\n"
   ]
  },
  {
   "cell_type": "markdown",
   "metadata": {
    "colab_type": "text",
    "id": "v0ixPjanLW72"
   },
   "source": [
    "## Testing the fitted model on new data\n",
    "\n",
    "Recently a local business school professor and golfer, Mark Broadie, came by my office with tons of new data. For simplicity we’ll just look here at the summary data, probabilities of the ball going into the hole for shots up to 75 feet from the hole. The graph below shows these new data (in red), along with our earlier dataset (in blue) and the already-fit geometry-based model from before, extending to the range of the new data.\n",
    "\n"
   ]
  },
  {
   "cell_type": "markdown",
   "metadata": {
    "colab_type": "text",
    "id": "5ayMzz_oLW74"
   },
   "source": [
    "![title](https://github.com/choiiiiii/stan/blob/master/data/img/checking_alreadyfit.png?raw=1)\n"
   ]
  },
  {
   "cell_type": "markdown",
   "metadata": {
    "colab_type": "text",
    "id": "4V60djEeLW76"
   },
   "source": [
    "Comparing the two datasets in the range 0-20 feet, the success rate is similar for longer putts but is much higher than before for the short putts. This could be a measurement issue, if the distances to the hole are only approximate for the old data, and it could also be that golfers are better than they used to be.\n",
    "\n",
    "Beyond 20 feet, the empirical success rates become lower than would be predicted by the old model. These are much more difficult attempts, even after accounting for the increased angular precision required as distance goes up."
   ]
  },
  {
   "cell_type": "markdown",
   "metadata": {
    "colab_type": "text",
    "id": "YDvCrW5aLW78"
   },
   "source": [
    "## A new model accounting for how hard the ball is hit\n",
    "To get the ball in the hole, the angle isn’t the only thing you need to control; you also need to hit the ball just hard enough.\n",
    "\n",
    "Mark Broadie added this to our model by introducing another parameter corresponding to the golfer’s control over distance. Supposing uu is the distance that golfer’s shot would travel if there were no hole, Broadie assumes that the putt will go in if (a) the angle allows the ball to go over the hole, and (b) uu is in the range [x,x+3]. That is the ball must be hit hard enough to reach the whole but not go too far. Factor (a) is what we have considered earlier; we must now add factor (b).\n",
    "\n",
    "The following sketch, which is not to scale, illustrates the need for the distance as angle as well as the angle of the shot to be in some range, in this case the gray zone which represents the trajectories for which the ball would reach the hole and stay in it."
   ]
  },
  {
   "cell_type": "markdown",
   "metadata": {
    "colab_type": "text",
    "id": "-kAI79mWLW7-"
   },
   "source": [
    "![title](https://github.com/choiiiiii/stan/blob/master/data/img/golf_physical_model.png?raw=1)"
   ]
  },
  {
   "cell_type": "markdown",
   "metadata": {
    "colab_type": "text",
    "id": "uRBcxV_sLW8A"
   },
   "source": [
    "Broadie supposes that a golfer will aim to hit the ball one foot past the hole but with a multiplicative error in the shot’s potential distance, so that u=(x+1)⋅(1+error)u=(x+1)⋅(1+error), where the error has a normal distribution with mean 0 and standard deviation σdistanceσdistance. This new parameter σdistanceσdistance represents the uncertainty in the shot’s relative distance. In statistics notation, this model is,\n",
    "\n",
    "$$ u∼normal(x+1,(x+1)\\sigma_{distance }),$$\n",
    "and the distance is acceptable if u∈[x,x+3], an event that has probability \n",
    "$$\\Phi\\left(\\frac{2}{(x+1) \\sigma_{distance}}\\right)-\\Phi\\left(\\frac{-1}{(x+1) \\sigma_{distance}}\\right)$$\n",
    "\n",
    "Putting these together, the probability a shot goes in becomes, \n",
    "\n",
    "$$\\left(2 \\Phi\\left(\\frac{\\sin ^{-1}((R-r)(x)}{\\sigma_{\\text {angle}}}\\right)-1\\right)\\left(\\Phi\\left(\\frac{2}{(x+1) \\sigma_{\\text {distance }}}\\right)-\\Phi\\left(\\frac{-1}{(x+1) \\sigma_{\\text {distance }}}\\right)\\right)$$\n",
    "\n",
    "where we have renamed the parameter σσ from our earlier model to σangleσangle to distinguish it from the new σdistanceσdistance parameter. We write the new model in Stan, giving it the name `golf_angle_distance_2.stan` to convey that it is the second model in a series, and that it accounts both for angle and distance:"
   ]
  },
  {
   "cell_type": "markdown",
   "metadata": {
    "colab_type": "text",
    "id": "7yzrVCp_LW8C"
   },
   "source": [
    "```\n",
    "data {\n",
    "  int J;\n",
    "  int n[J];\n",
    "  vector[J] x;\n",
    "  int y[J];\n",
    "  real r;\n",
    "  real R;\n",
    "  real overshot;\n",
    "  real distance_tolerance;\n",
    "}\n",
    "transformed data {\n",
    "  vector[J] threshold_angle = asin((R-r) ./ x);\n",
    "}\n",
    "parameters {\n",
    "  real<lower=0> sigma_angle;\n",
    "  real<lower=0> sigma_distance;\n",
    "}\n",
    "model {\n",
    "  vector[J] p_angle = 2*Phi(threshold_angle / sigma_angle) - 1;\n",
    "  vector[J] p_distance = Phi((distance_tolerance - overshot) ./ ((x + overshot)*sigma_distance)) -\n",
    "               Phi((- overshot) ./ ((x + overshot)*sigma_distance));\n",
    "  vector[J] p = p_angle .* p_distance;\n",
    "  y ~ binomial(n, p);\n",
    "  [sigma_angle, sigma_distance] ~ normal(0, 1);\n",
    "}\n",
    "generated quantities {\n",
    "  real sigma_degrees = sigma_angle * 180 / pi();\n",
    "}\n",
    "```"
   ]
  },
  {
   "cell_type": "markdown",
   "metadata": {
    "colab_type": "text",
    "id": "c6GJBL60LW8E"
   },
   "source": [
    "Here we have defined `overshot` and `distance_tolerance` as data, which Broadie has specified as 1 and 3 feet, respectively. We might wonder why if the distance range is 3 feet, the overshot is not 1.5 feet. One reason could be that it is riskier to hit the ball too hard than too soft. In addition we assigned weakly informative half-normal(0,1) priors on the scale parameters, $\\sigma_{angle}$ and $\\sigma_{distance}$, which are required in this case to keep the computations stable."
   ]
  },
  {
   "cell_type": "code",
   "execution_count": 7,
   "metadata": {
    "colab": {
     "base_uri": "https://localhost:8080/",
     "height": 263
    },
    "colab_type": "code",
    "id": "6ojhGv4xLW8G",
    "outputId": "68de5ea9-895d-47ed-9cff-b2a1eb5f8637"
   },
   "outputs": [
    {
     "name": "stderr",
     "output_type": "stream",
     "text": [
      "INFO:cmdstanpy:compiling stan program, exe file: /Users/hyunjimoon/Dropbox/stan/casestudy/stanfile/golf_angle_distance_2\n",
      "INFO:cmdstanpy:compiler options: stanc_options=None, cpp_options=None\n",
      "INFO:cmdstanpy:compiled model file: /Users/hyunjimoon/Dropbox/stan/casestudy/stanfile/golf_angle_distance_2\n",
      "INFO:cmdstanpy:start chain 1\n",
      "INFO:cmdstanpy:start chain 2\n",
      "INFO:cmdstanpy:start chain 3\n",
      "INFO:cmdstanpy:finish chain 3\n",
      "INFO:cmdstanpy:start chain 4\n",
      "INFO:cmdstanpy:finish chain 2\n",
      "INFO:cmdstanpy:start chain 5\n",
      "INFO:cmdstanpy:finish chain 1\n",
      "INFO:cmdstanpy:finish chain 5\n",
      "INFO:cmdstanpy:finish chain 4\n"
     ]
    }
   ],
   "source": [
    "golf_angle_distance_2_path = os.path.join('./stanfile','golf_angle_distance_2.stan')\n",
    "golf_angle_distance_2_model = CmdStanModel(stan_file=golf_angle_distance_2_path)\n",
    "golf_angle_distance_2_data = {\n",
    "    \"J\": new_df.shape[0],\n",
    "    \"n\": list(new_df.loc[:,'n']),\n",
    "    \"x\": list(new_df.loc[:,'x']),\n",
    "    \"y\": list(new_df.loc[:,'y']),\n",
    "    \"r\": (1.68/2)/12,\n",
    "    \"R\": (4.25/2)/12,\n",
    "    \"overshot\": 1,\n",
    "    \"distance_tolerance\": 3,\n",
    "}\n",
    "golf_angle_distance_2_fit = golf_angle_distance_2_model.sample(chains=5, cores=3, data=golf_angle_distance_2_data)"
   ]
  },
  {
   "cell_type": "markdown",
   "metadata": {
    "colab_type": "text",
    "id": "Lmu56KrhLW8T"
   },
   "source": [
    "## Fitting the new model to data\n",
    "We fit the model to the new dataset."
   ]
  },
  {
   "cell_type": "markdown",
   "metadata": {
    "colab_type": "text",
    "id": "t9adtK4dLW8V"
   },
   "source": [
    "![title](https://github.com/choiiiiii/stan/blob/master/data/img/errormessage.png?raw=1)"
   ]
  },
  {
   "cell_type": "markdown",
   "metadata": {
    "colab_type": "text",
    "id": "4_GL-ejkLW8X"
   },
   "source": [
    "There is poor convergence, and we need to figure out what is going on here. (Problems with computation often indicate underlying problems with the model being fit. That’s the folk theorem of statistical computing.)"
   ]
  },
  {
   "cell_type": "code",
   "execution_count": 8,
   "metadata": {
    "colab": {},
    "colab_type": "code",
    "id": "h6mLfm44LW8Z",
    "outputId": "b42a01c9-dbe5-4f1a-cf40-7749390588ae",
    "scrolled": true
   },
   "outputs": [
    {
     "data": {
      "text/html": [
       "<div>\n",
       "<style scoped>\n",
       "    .dataframe tbody tr th:only-of-type {\n",
       "        vertical-align: middle;\n",
       "    }\n",
       "\n",
       "    .dataframe tbody tr th {\n",
       "        vertical-align: top;\n",
       "    }\n",
       "\n",
       "    .dataframe thead th {\n",
       "        text-align: right;\n",
       "    }\n",
       "</style>\n",
       "<table border=\"1\" class=\"dataframe\">\n",
       "  <thead>\n",
       "    <tr style=\"text-align: right;\">\n",
       "      <th></th>\n",
       "      <th>Mean</th>\n",
       "      <th>MCSE</th>\n",
       "      <th>StdDev</th>\n",
       "      <th>5%</th>\n",
       "      <th>50%</th>\n",
       "      <th>95%</th>\n",
       "      <th>N_Eff</th>\n",
       "      <th>N_Eff/s</th>\n",
       "      <th>R_hat</th>\n",
       "    </tr>\n",
       "    <tr>\n",
       "      <th>name</th>\n",
       "      <th></th>\n",
       "      <th></th>\n",
       "      <th></th>\n",
       "      <th></th>\n",
       "      <th></th>\n",
       "      <th></th>\n",
       "      <th></th>\n",
       "      <th></th>\n",
       "      <th></th>\n",
       "    </tr>\n",
       "  </thead>\n",
       "  <tbody>\n",
       "    <tr>\n",
       "      <td>lp__</td>\n",
       "      <td>-407982.000000</td>\n",
       "      <td>53989.100000</td>\n",
       "      <td>85493.000000</td>\n",
       "      <td>-578947.000000</td>\n",
       "      <td>-364911.000000</td>\n",
       "      <td>-364909.000000</td>\n",
       "      <td>2.50754</td>\n",
       "      <td>0.093433</td>\n",
       "      <td>364.2760</td>\n",
       "    </tr>\n",
       "    <tr>\n",
       "      <td>sigma_angle</td>\n",
       "      <td>0.021071</td>\n",
       "      <td>0.008573</td>\n",
       "      <td>0.013578</td>\n",
       "      <td>0.013202</td>\n",
       "      <td>0.013350</td>\n",
       "      <td>0.048027</td>\n",
       "      <td>2.50833</td>\n",
       "      <td>0.093462</td>\n",
       "      <td>62.5012</td>\n",
       "    </tr>\n",
       "    <tr>\n",
       "      <td>sigma_distance</td>\n",
       "      <td>0.116983</td>\n",
       "      <td>0.015978</td>\n",
       "      <td>0.025304</td>\n",
       "      <td>0.078729</td>\n",
       "      <td>0.136690</td>\n",
       "      <td>0.137993</td>\n",
       "      <td>2.50817</td>\n",
       "      <td>0.093457</td>\n",
       "      <td>60.7203</td>\n",
       "    </tr>\n",
       "    <tr>\n",
       "      <td>sigma_degrees</td>\n",
       "      <td>1.207270</td>\n",
       "      <td>0.491222</td>\n",
       "      <td>0.777982</td>\n",
       "      <td>0.756430</td>\n",
       "      <td>0.764907</td>\n",
       "      <td>2.751740</td>\n",
       "      <td>2.50833</td>\n",
       "      <td>0.093462</td>\n",
       "      <td>62.5010</td>\n",
       "    </tr>\n",
       "  </tbody>\n",
       "</table>\n",
       "</div>"
      ],
      "text/plain": [
       "                         Mean          MCSE        StdDev             5%  \\\n",
       "name                                                                       \n",
       "lp__           -407982.000000  53989.100000  85493.000000 -578947.000000   \n",
       "sigma_angle          0.021071      0.008573      0.013578       0.013202   \n",
       "sigma_distance       0.116983      0.015978      0.025304       0.078729   \n",
       "sigma_degrees        1.207270      0.491222      0.777982       0.756430   \n",
       "\n",
       "                          50%            95%    N_Eff   N_Eff/s     R_hat  \n",
       "name                                                                       \n",
       "lp__           -364911.000000 -364909.000000  2.50754  0.093433  364.2760  \n",
       "sigma_angle          0.013350       0.048027  2.50833  0.093462   62.5012  \n",
       "sigma_distance       0.136690       0.137993  2.50817  0.093457   60.7203  \n",
       "sigma_degrees        0.764907       2.751740  2.50833  0.093462   62.5010  "
      ]
     },
     "execution_count": 8,
     "metadata": {},
     "output_type": "execute_result"
    }
   ],
   "source": [
    "golf_angle_distance_2_fit.summary()"
   ]
  },
  {
   "cell_type": "markdown",
   "metadata": {
    "colab_type": "text",
    "id": "g1wYqNT-LW8l"
   },
   "source": [
    "To understand what is happening, we graph the new data and the fitted model, accepting that this “fit,” based as it is on poorly-mixing chains, is only provisional:\n",
    "\n"
   ]
  },
  {
   "cell_type": "markdown",
   "metadata": {
    "colab_type": "text",
    "id": "wyh2N6WJLW8n"
   },
   "source": [
    "![title](https://github.com/choiiiiii/stan/blob/master/data/img/checking_modelfit.png?raw=1)"
   ]
  },
  {
   "cell_type": "markdown",
   "metadata": {
    "colab_type": "text",
    "id": "_Vy9kCv_LW8q"
   },
   "source": [
    "To understand what is happening, we graph the new data and the fitted model, accepting that this “fit,” based as it is on poorly-mixing chains, is only provisional:"
   ]
  },
  {
   "cell_type": "code",
   "execution_count": 9,
   "metadata": {
    "colab": {
     "base_uri": "https://localhost:8080/",
     "height": 195
    },
    "colab_type": "code",
    "id": "3t5qzWzrLW8s",
    "outputId": "bd41e203-a0c6-4f5e-d907-b4b33c5bcc57"
   },
   "outputs": [
    {
     "data": {
      "text/html": [
       "<div>\n",
       "<style scoped>\n",
       "    .dataframe tbody tr th:only-of-type {\n",
       "        vertical-align: middle;\n",
       "    }\n",
       "\n",
       "    .dataframe tbody tr th {\n",
       "        vertical-align: top;\n",
       "    }\n",
       "\n",
       "    .dataframe thead th {\n",
       "        text-align: right;\n",
       "    }\n",
       "</style>\n",
       "<table border=\"1\" class=\"dataframe\">\n",
       "  <thead>\n",
       "    <tr style=\"text-align: right;\">\n",
       "      <th></th>\n",
       "      <th>x</th>\n",
       "      <th>n</th>\n",
       "      <th>y</th>\n",
       "    </tr>\n",
       "  </thead>\n",
       "  <tbody>\n",
       "    <tr>\n",
       "      <td>0</td>\n",
       "      <td>0.28</td>\n",
       "      <td>45198</td>\n",
       "      <td>45183</td>\n",
       "    </tr>\n",
       "    <tr>\n",
       "      <td>1</td>\n",
       "      <td>0.97</td>\n",
       "      <td>183020</td>\n",
       "      <td>182899</td>\n",
       "    </tr>\n",
       "    <tr>\n",
       "      <td>2</td>\n",
       "      <td>1.93</td>\n",
       "      <td>169503</td>\n",
       "      <td>168594</td>\n",
       "    </tr>\n",
       "    <tr>\n",
       "      <td>3</td>\n",
       "      <td>2.92</td>\n",
       "      <td>113094</td>\n",
       "      <td>108953</td>\n",
       "    </tr>\n",
       "    <tr>\n",
       "      <td>4</td>\n",
       "      <td>3.93</td>\n",
       "      <td>73855</td>\n",
       "      <td>64740</td>\n",
       "    </tr>\n",
       "  </tbody>\n",
       "</table>\n",
       "</div>"
      ],
      "text/plain": [
       "      x       n       y\n",
       "0  0.28   45198   45183\n",
       "1  0.97  183020  182899\n",
       "2  1.93  169503  168594\n",
       "3  2.92  113094  108953\n",
       "4  3.93   73855   64740"
      ]
     },
     "execution_count": 9,
     "metadata": {},
     "output_type": "execute_result"
    }
   ],
   "source": [
    "new_df.iloc[:5,]"
   ]
  },
  {
   "cell_type": "markdown",
   "metadata": {
    "colab_type": "text",
    "id": "Nh0j1xAeLW84"
   },
   "source": [
    "With such large values of $n_j$, the binomial likelihood enforces an extremely close fit at these first few points, and that drives the entire fit of the model.\n",
    "\n",
    "To fix this problem we took the data model, $y_j∼binomial(n_j,p_j)$, and added an independent error term to each observation. There is no easy way to add error directly to the binomial distribution—we could replace it with its overdispersed generalization, the beta-binomial, but this would not be appropriate here because the variance for each data point ii would still be roughly proportional to the sample size njnj, and our whole point here is to get away from this assumption and allow for model misspecification—so instead we first approximate the binomial data distribution by a normal and then add independent variance; thus:\n",
    "\n",
    "$$\n",
    "y_{j} / n_{j} \\sim \\text { normal }\\left(p_{j}, \\sqrt{p_{j}\\left(1-p_{j}\\right) / n_{j}+\\sigma_{y}^{2}}\\right)\n",
    "$$\n",
    "\n",
    "To write this in Stan there are some complications:\n",
    "\n",
    "- y and n are integer variables, which we convert to vectors so that we can multiply and divide them.\n",
    "\n",
    "- To perform componentwise multiplication or division using vectors, you need to use `.*` or `./` so that San knows not to try to perform vector/matrix multiplication and division. Stan is opposite from R in this way: Stan defaults to vector/matrix operations and has to be told otherwise, whereas R defaults to componentwise operations, and vector/matrix multiplication in R is indicated using the `%*%` operator.\n",
    "\n",
    "We implement these via the following new code in the transformed data block:\n",
    "```\n",
    "vector[J] raw_proportions = to_vector(y) ./ to_vector(n);\n",
    "```\n",
    "And then in the model block:\n",
    "```\n",
    "  raw_proportions ~ normal(p, sqrt(p .* (1-p) ./ to_vector(n) + sigma_y^2));\n",
    "```"
   ]
  },
  {
   "cell_type": "markdown",
   "metadata": {
    "colab_type": "text",
    "id": "9aGGfMLLLW86"
   },
   "source": [
    "To complete the model we add $\\sigma_y$ to the parameters block and assign it a weakly informative half-normal(0,1) prior distribution. Here’s the new Stan program:\n",
    "```\n",
    "data {\n",
    "  int J;\n",
    "  int n[J];\n",
    "  vector[J] x;\n",
    "  int y[J];\n",
    "  real r;\n",
    "  real R;\n",
    "  real overshot;\n",
    "  real distance_tolerance;\n",
    "}\n",
    "transformed data {\n",
    "  vector[J] threshold_angle = asin((R-r) ./ x);\n",
    "  vector[J] raw_proportions = to_vector(y) ./ to_vector(n);\n",
    "}\n",
    "parameters {\n",
    "  real<lower=0> sigma_angle;\n",
    "  real<lower=0> sigma_distance;\n",
    "  real<lower=0> sigma_y;\n",
    "}\n",
    "model {\n",
    "  vector[J] p_angle = 2*Phi(threshold_angle / sigma_angle) - 1;\n",
    "  vector[J] p_distance = Phi((distance_tolerance - overshot) ./ ((x + overshot)*sigma_distance)) -\n",
    "               Phi((- overshot) ./ ((x + overshot)*sigma_distance));\n",
    "  vector[J] p = p_angle .* p_distance;\n",
    "  raw_proportions ~ normal(p, sqrt(p .* (1-p) ./ to_vector(n) + sigma_y^2));\n",
    "  [sigma_angle, sigma_distance, sigma_y] ~ normal(0, 1);\n",
    "}\n",
    "generated quantities {\n",
    "  real sigma_degrees = sigma_angle * 180 / pi();\n",
    "}\n",
    "```"
   ]
  },
  {
   "cell_type": "markdown",
   "metadata": {
    "colab_type": "text",
    "id": "iqZMrDzzLW87"
   },
   "source": [
    "We now fit this model to the data:"
   ]
  },
  {
   "cell_type": "code",
   "execution_count": 10,
   "metadata": {
    "colab": {},
    "colab_type": "code",
    "id": "EuvGJZgDLW89"
   },
   "outputs": [
    {
     "name": "stderr",
     "output_type": "stream",
     "text": [
      "INFO:cmdstanpy:compiling stan program, exe file: /Users/hyunjimoon/Dropbox/stan/casestudy/stanfile/golf_angle_distance_3\n",
      "INFO:cmdstanpy:compiler options: stanc_options=None, cpp_options=None\n",
      "INFO:cmdstanpy:compiled model file: /Users/hyunjimoon/Dropbox/stan/casestudy/stanfile/golf_angle_distance_3\n",
      "INFO:cmdstanpy:start chain 1\n",
      "INFO:cmdstanpy:start chain 2\n",
      "INFO:cmdstanpy:start chain 3\n",
      "INFO:cmdstanpy:finish chain 1\n",
      "INFO:cmdstanpy:start chain 4\n",
      "INFO:cmdstanpy:finish chain 3\n",
      "INFO:cmdstanpy:start chain 5\n",
      "INFO:cmdstanpy:finish chain 2\n",
      "INFO:cmdstanpy:finish chain 4\n",
      "INFO:cmdstanpy:finish chain 5\n"
     ]
    },
    {
     "data": {
      "text/html": [
       "<div>\n",
       "<style scoped>\n",
       "    .dataframe tbody tr th:only-of-type {\n",
       "        vertical-align: middle;\n",
       "    }\n",
       "\n",
       "    .dataframe tbody tr th {\n",
       "        vertical-align: top;\n",
       "    }\n",
       "\n",
       "    .dataframe thead th {\n",
       "        text-align: right;\n",
       "    }\n",
       "</style>\n",
       "<table border=\"1\" class=\"dataframe\">\n",
       "  <thead>\n",
       "    <tr style=\"text-align: right;\">\n",
       "      <th></th>\n",
       "      <th>Mean</th>\n",
       "      <th>MCSE</th>\n",
       "      <th>StdDev</th>\n",
       "      <th>5%</th>\n",
       "      <th>50%</th>\n",
       "      <th>95%</th>\n",
       "      <th>N_Eff</th>\n",
       "      <th>N_Eff/s</th>\n",
       "      <th>R_hat</th>\n",
       "    </tr>\n",
       "    <tr>\n",
       "      <th>name</th>\n",
       "      <th></th>\n",
       "      <th></th>\n",
       "      <th></th>\n",
       "      <th></th>\n",
       "      <th></th>\n",
       "      <th></th>\n",
       "      <th></th>\n",
       "      <th></th>\n",
       "      <th></th>\n",
       "    </tr>\n",
       "  </thead>\n",
       "  <tbody>\n",
       "    <tr>\n",
       "      <td>lp__</td>\n",
       "      <td>146.552000</td>\n",
       "      <td>0.029646</td>\n",
       "      <td>1.290160</td>\n",
       "      <td>144.013000</td>\n",
       "      <td>146.875000</td>\n",
       "      <td>147.958000</td>\n",
       "      <td>1893.92</td>\n",
       "      <td>1767.16</td>\n",
       "      <td>1.00103</td>\n",
       "    </tr>\n",
       "    <tr>\n",
       "      <td>sigma_angle</td>\n",
       "      <td>0.017807</td>\n",
       "      <td>0.000002</td>\n",
       "      <td>0.000104</td>\n",
       "      <td>0.017638</td>\n",
       "      <td>0.017806</td>\n",
       "      <td>0.017979</td>\n",
       "      <td>2009.62</td>\n",
       "      <td>1875.11</td>\n",
       "      <td>1.00113</td>\n",
       "    </tr>\n",
       "    <tr>\n",
       "      <td>sigma_distance</td>\n",
       "      <td>0.080030</td>\n",
       "      <td>0.000029</td>\n",
       "      <td>0.001297</td>\n",
       "      <td>0.077901</td>\n",
       "      <td>0.080040</td>\n",
       "      <td>0.082170</td>\n",
       "      <td>1988.39</td>\n",
       "      <td>1855.30</td>\n",
       "      <td>1.00115</td>\n",
       "    </tr>\n",
       "    <tr>\n",
       "      <td>sigma_y</td>\n",
       "      <td>0.003051</td>\n",
       "      <td>0.000012</td>\n",
       "      <td>0.000593</td>\n",
       "      <td>0.002186</td>\n",
       "      <td>0.002997</td>\n",
       "      <td>0.004091</td>\n",
       "      <td>2363.75</td>\n",
       "      <td>2205.53</td>\n",
       "      <td>1.00124</td>\n",
       "    </tr>\n",
       "    <tr>\n",
       "      <td>sigma_degrees</td>\n",
       "      <td>1.020260</td>\n",
       "      <td>0.000133</td>\n",
       "      <td>0.005956</td>\n",
       "      <td>1.010610</td>\n",
       "      <td>1.020230</td>\n",
       "      <td>1.030130</td>\n",
       "      <td>2009.58</td>\n",
       "      <td>1875.07</td>\n",
       "      <td>1.00113</td>\n",
       "    </tr>\n",
       "  </tbody>\n",
       "</table>\n",
       "</div>"
      ],
      "text/plain": [
       "                      Mean      MCSE    StdDev          5%         50%  \\\n",
       "name                                                                     \n",
       "lp__            146.552000  0.029646  1.290160  144.013000  146.875000   \n",
       "sigma_angle       0.017807  0.000002  0.000104    0.017638    0.017806   \n",
       "sigma_distance    0.080030  0.000029  0.001297    0.077901    0.080040   \n",
       "sigma_y           0.003051  0.000012  0.000593    0.002186    0.002997   \n",
       "sigma_degrees     1.020260  0.000133  0.005956    1.010610    1.020230   \n",
       "\n",
       "                       95%    N_Eff  N_Eff/s    R_hat  \n",
       "name                                                   \n",
       "lp__            147.958000  1893.92  1767.16  1.00103  \n",
       "sigma_angle       0.017979  2009.62  1875.11  1.00113  \n",
       "sigma_distance    0.082170  1988.39  1855.30  1.00115  \n",
       "sigma_y           0.004091  2363.75  2205.53  1.00124  \n",
       "sigma_degrees     1.030130  2009.58  1875.07  1.00113  "
      ]
     },
     "execution_count": 10,
     "metadata": {},
     "output_type": "execute_result"
    }
   ],
   "source": [
    "golf_angle_distance_3_path = os.path.join('./stanfile','golf_angle_distance_3.stan')\n",
    "golf_angle_distance_3_model = CmdStanModel(stan_file=golf_angle_distance_3_path)\n",
    "golf_angle_distance_3_data = {\n",
    "    \"J\": new_df.shape[0],\n",
    "    \"n\": list(new_df.loc[:,'n']),\n",
    "    \"x\": list(new_df.loc[:,'x']),\n",
    "    \"y\": list(new_df.loc[:,'y']),\n",
    "    \"r\": (1.68/2)/12,\n",
    "    \"R\": (4.25/2)/12,\n",
    "    \"overshot\": 1,\n",
    "    \"distance_tolerance\": 3,\n",
    "}\n",
    "golf_angle_distance_3_fit = golf_angle_distance_3_model.sample(chains=5, cores=3, data=golf_angle_distance_3_data)\n",
    "golf_angle_distance_3_fit.summary()\n"
   ]
  },
  {
   "cell_type": "markdown",
   "metadata": {
    "colab_type": "text",
    "id": "L-Se212cLW9H"
   },
   "source": [
    "The new parameter estimates are:\n",
    "\n",
    "- $\\sigma_{angle}$ is estimated at 0.02, which when corresponds to $\\sigma_{degrees}$  = 1.0. According to the fitted model, there is a standard deviation of 1.0 degree in the angles of putts taken by pro golfers. The estimate of $\\sigma_{angle}$ has decreased compared to the earlier model that only had angular errors. This makes sense: now that distance errors have been included in the model, there is no need to explain so many of the missed shots using errors in angle.\n",
    "\n",
    "- $\\sigma_{distance}$  is estimated at 0.08. According to the fitted model, there is a standard deviation of 8% in the errors of distance.\n",
    "\n",
    "- $\\sigma_{y}$ is estimated at 0.003. The fitted model fits the aggregate data (success rate as a function of distance) to an accuracy of 0.3 percentage points.\n",
    "\n",
    "And now we graph:"
   ]
  },
  {
   "cell_type": "markdown",
   "metadata": {
    "colab_type": "text",
    "id": "qgcntypLLW9J"
   },
   "source": [
    "![title](https://github.com/choiiiiii/stan/blob/master/data/img/checking_modelfit_2.png?raw=1)"
   ]
  },
  {
   "cell_type": "markdown",
   "metadata": {
    "colab_type": "text",
    "id": "SIbza767LW9L"
   },
   "source": [
    "We can go further and plot the residuals from this fit. First we augment the Stan model to compute residuals in the generated quantities block.\n",
    "\n",
    "Then we compute the posterior means of the residuals, $y_{j}/n_{j}−p_{j}$, then plot these vs. distance:"
   ]
  },
  {
   "cell_type": "markdown",
   "metadata": {
    "colab_type": "text",
    "id": "tTEu0M-PLW9N"
   },
   "source": [
    "![title](https://github.com/choiiiiii/stan/blob/master/data/img/residuals.png?raw=1)"
   ]
  },
  {
   "cell_type": "markdown",
   "metadata": {
    "colab_type": "text",
    "id": "BGk6l3u5LW9O"
   },
   "source": [
    "The residuals are small (see the scale of the yy-axis) and show no clear pattern, suggesting not that the model is perfect but that there are no clear ways to develop it further just given the current data."
   ]
  },
  {
   "cell_type": "markdown",
   "metadata": {
    "colab_type": "text",
    "id": "_b-nvTHJLW9S"
   },
   "source": [
    "## Problems with the model and potential improvements\n",
    "The error term in the above model is a hack. It’s useful to allow the model not to fit the data perfectly, but it can’t be right to model these systematic errors as being independent. In this case, though, it doesn’t really matter, given how tiny these errors are: their estimated standard deviation is less than one percentage point.\n",
    "\n",
    "The model has two parameters that were fixed as data: `distance_tolerance`, which was set to 3 (implying that the ball will only fall into the hole if it is hit on a trajectory that would go past the hole, but no more than 3 feet past) and `overshot`, which was set to 1 (implying that the golfer will aim 1 foot past the hole). In theory it would be possible to estimate either or both these parameters from the data. In practice, no way. The model already fits the data so well (as shown by the above graph) that there’s clearly no more information available to estimate any additional parameters. If we were to do so, the estimates would be highly noisy and unstable (if their prior is weak) or highly dependent on the prior (if an informative prior distribution is specified). Either way we don’t see the advantage of this sort of fit.\n",
    "\n",
    "Just for laughs, though, we constructed such a model and fit it, just to see what would happen. We simply took our previous Stan program and moved these two parameters from the data block to the parameters block along with zero-boundary constraints:\n",
    "```\n",
    "real<lower=0> overshot;\n",
    "real<lower=0> distance_tolerance;\n",
    "```\n",
    "And then in the model block we added weak priors centered at Broadie’s guesses and with wide uncertainties:\n",
    "\n",
    "```  \n",
    "overshot ~ normal(1, 5);\n",
    "distance_tolerance ~ normal(3, 5);\n",
    "  ```\n",
    "Fitting this model to the data yields poor convergence and no real gain beyond the simpler version already fit in which overshot and distance_tolerance were set to fixed values.\n",
    "\n",
    "The model is unrealistic in other ways, for example by assuming distance error is strictly proportional to distance aimed, and assuming independence of angular and distance errors. Presumably, angular error is higher for longer putts. Again, though, we can’t really investigate such things well using these data which are already such a good fit to the simple two-parameter model we have already fit.\n",
    "\n",
    "Players vary in ability and golf courses vary in difficulty. Given more granular data, we should be able to fit a multilevel model allowing parameters to vary by player, golf course, and weather conditions.\n",
    "\n",
    "# Summary of fitted models\n",
    "We have two datasets, `golf` and `golf_new`, to which we fit several Stan models. First we fit `golf_logistic` and `golf_angle` to the `golf` dataset, then we fit `golf_angle` to the `golf_new` dataset and see a problem, then we fit `golf_angle_distance_2` and `golf_angle_distance_3` to `golf_new` and finally obtained a good fit, then we fit `golf_angle_distance_3_with_resids` which was the same model but also saving residuals. Finally, we fit `golf_angle_distance_4` to `golf_new` but we didn’t display the fit, we just discussed it.\n",
    "\n",
    "# References\n",
    "Don Berry (1995). Statistics: A Bayesian Perspective. Duxbury Press. The original golf dataset appears as an example in this book.\n",
    "\n",
    "Mark Broadie (2018). Two simple putting models in golf. Linked from https://statmodeling.stat.columbia.edu/2019/03/21/new-golf-putting-data-and-a-new-golf-putting-model/. Here is the larger dataset and a document describing the model with angular and distance errors.\n",
    "\n",
    "Andrew Gelman and Deborah Nolan (2002). A probability model for golf putting. Teaching Statistics 50, 151-153. Our first explanation of the angular-error model.\n",
    "\n",
    "All code in this document is licensed under BSD 3-clause license and all text licensed under CC-BY-NC 4.0"
   ]
  }
 ],
 "metadata": {
  "colab": {
   "collapsed_sections": [],
   "include_colab_link": true,
   "name": "20Stan_golf.ipynb",
   "provenance": []
  },
  "kernelspec": {
   "display_name": "Python 3",
   "language": "python",
   "name": "python3"
  },
  "language_info": {
   "codemirror_mode": {
    "name": "ipython",
    "version": 3
   },
   "file_extension": ".py",
   "mimetype": "text/x-python",
   "name": "python",
   "nbconvert_exporter": "python",
   "pygments_lexer": "ipython3",
   "version": "3.7.6"
  }
 },
 "nbformat": 4,
 "nbformat_minor": 1
}
